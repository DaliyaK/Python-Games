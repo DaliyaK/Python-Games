{
 "cells": [
  {
   "cell_type": "code",
   "execution_count": 10,
   "id": "8873bf79",
   "metadata": {},
   "outputs": [
    {
     "name": "stdout",
     "output_type": "stream",
     "text": [
      "Введите количество паролей, которые хотите сгенерировать\n",
      "5\n",
      "Введите длину одного пароля\n",
      "4\n",
      "Включать ли цифры 0123456789? Да - 1, нет - 0.\n",
      "0\n",
      "Включать ли прописные буквы ABCDEFGHIJKLMNOPQRSTUVWXYZ? Да - 1, нет - 0.\n",
      "1\n",
      "Включать ли строчные буквы abcdefghijklmnopqrstuvwxyz? Да - 1, нет - 0.\n",
      "0\n",
      "Включать ли символы !#$%&*+-=?@^_? Да - 1, нет - 0.\n",
      "0\n",
      "Исключать ли неоднозначные символы il1Lo0O? Да - 1, нет - 0.\n",
      "1\n",
      "UAHP\n",
      "BEOP\n",
      "EFQR\n",
      "XEJQ\n",
      "UFBQ\n"
     ]
    }
   ],
   "source": [
    "import random\n",
    "\n",
    "digits = '0123456789'\n",
    "lowercase_letters = 'abcdefghijklmnopqrstuvwxyz'\n",
    "uppercase_letters = 'ABCDEFGHIJKLMNOPQRSTUVWXYZ'\n",
    "punctuation = '!#$%&*+-=?@^_'\n",
    "chars = ''\n",
    "\n",
    "print('Введите количество паролей, которые хотите сгенерировать')\n",
    "number_of_pswrds = int(input())\n",
    "print('Введите длину одного пароля')\n",
    "length = int(input())\n",
    "\n",
    "print('Включать ли цифры 0123456789? Да - 1, нет - 0.')\n",
    "num = int(input())\n",
    "print('Включать ли прописные буквы ABCDEFGHIJKLMNOPQRSTUVWXYZ? Да - 1, нет - 0.')\n",
    "up_letters = int(input())\n",
    "print('Включать ли строчные буквы abcdefghijklmnopqrstuvwxyz? Да - 1, нет - 0.')\n",
    "low_letters = int(input())\n",
    "print('Включать ли символы !#$%&*+-=?@^_? Да - 1, нет - 0.')\n",
    "symb = int(input())\n",
    "print('Исключать ли неоднозначные символы il1Lo0O? Да - 1, нет - 0.')\n",
    "ambi_symb = int(input())\n",
    "\n",
    "if num == 1:\n",
    "    chars += digits\n",
    "if up_letters == 1:\n",
    "    chars += uppercase_letters\n",
    "if low_letters == 1:\n",
    "    chars += lowercase_letters\n",
    "if symb == 1:\n",
    "    chars += punctuation\n",
    "if ambi_symb == 1:\n",
    "    for i in 'il1Lo0O':\n",
    "        chars.replace(i, '')\n",
    "        \n",
    "def generate_password(length, chars):\n",
    "    for i in range(number_of_pswrds):\n",
    "        password = random.sample(chars, length)\n",
    "        print(''.join(password))\n",
    "\n",
    "generate_password(length, chars)\n",
    "    \n"
   ]
  },
  {
   "cell_type": "code",
   "execution_count": null,
   "id": "e2f4ed19",
   "metadata": {},
   "outputs": [],
   "source": []
  }
 ],
 "metadata": {
  "kernelspec": {
   "display_name": "Python 3 (ipykernel)",
   "language": "python",
   "name": "python3"
  },
  "language_info": {
   "codemirror_mode": {
    "name": "ipython",
    "version": 3
   },
   "file_extension": ".py",
   "mimetype": "text/x-python",
   "name": "python",
   "nbconvert_exporter": "python",
   "pygments_lexer": "ipython3",
   "version": "3.9.13"
  }
 },
 "nbformat": 4,
 "nbformat_minor": 5
}
