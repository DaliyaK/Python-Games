{
 "cells": [
  {
   "cell_type": "code",
   "execution_count": null,
   "id": "eac55f20",
   "metadata": {},
   "outputs": [
    {
     "name": "stdout",
     "output_type": "stream",
     "text": [
      "Добро пожаловать в числовую угадайку!\n",
      "Введите максмальное натуральное число, которые мы можем загадать\n",
      "10\n",
      "Введите целое число от 1 до 10\n",
      "5\n",
      "Ваше число больше загаданного, попробуйте еще разок\n",
      "3\n",
      "Ваше число меньше загаданного, попробуйте еще разок\n",
      "4\n",
      "Вы угадали, поздравляем!\n",
      "Количество попыток - 3\n",
      "Спасибо, что играли в числовую угадайку. Давай сыграем еще раз!\n",
      "Введите максмальное натуральное число, которые мы можем загадать\n"
     ]
    }
   ],
   "source": [
    "\n",
    "print('Добро пожаловать в числовую угадайку!')\n",
    "\n",
    "\n",
    "def is_valid(num_user, mx_num):     #функция проверки корректности введенного пользователем числа\n",
    "    if num_user.isdigit() and 1 <= int(num_user) <= mx_num:\n",
    "        return True\n",
    "    else:\n",
    "        return False\n",
    "\n",
    "\n",
    "\n",
    "def game_func():\n",
    "    print('Введите максмальное натуральное число, которые мы можем загадать')    #задаем границу диапозона\n",
    "    mx_num = input()\n",
    "    mx_num = int(mx_num)\n",
    "    import random\n",
    "    print('Введите целое число от 1 до', mx_num)\n",
    "    num_random = random.randint(1, mx_num)     #генерируем рандомное число от 1 до mx_num\n",
    "    num_user = input()\n",
    "    while True:     #запрашиваем число у пользователя\n",
    "        if is_valid(num_user, mx_num) == True:\n",
    "            num_user = int(num_user)\n",
    "            break\n",
    "        else:\n",
    "            print('А может быть все-таки введем целое число от 1 до', mx_num)\n",
    "            num_user = input()\n",
    "\n",
    "    counter = 1     #считаем количество попыток пользователя\n",
    "    while num_user != num_random:     #сравниваем число пользователя с загаданным\n",
    "        if num_user < num_random:\n",
    "            counter += 1\n",
    "            print('Ваше число меньше загаданного, попробуйте еще разок')\n",
    "            num_user = input()\n",
    "            while True:\n",
    "                if is_valid(num_user, mx_num) == True:\n",
    "                    num_user = int(num_user)\n",
    "                    break\n",
    "                else:\n",
    "                    print('А может быть все-таки введем целое число от 1 до', mx_num)\n",
    "                    num_user = input()\n",
    "    \n",
    "        elif num_user > num_random:\n",
    "            counter += 1\n",
    "            print('Ваше число больше загаданного, попробуйте еще разок')\n",
    "            num_user = input()\n",
    "            while True:\n",
    "                if is_valid(num_user, mx_num) == True:\n",
    "                    num_user = int(num_user)\n",
    "                    break\n",
    "                else:\n",
    "                    print('А может быть все-таки введем целое число от 1 до', mx_num)\n",
    "                    num_user = input()\n",
    "\n",
    "        if num_user == num_random:\n",
    "            print('Вы угадали, поздравляем!')\n",
    "            print('Количество попыток -', counter)\n",
    "        \n",
    "    print('Спасибо, что играли в числовую угадайку. Давай сыграем еще раз!')\n",
    "game_func()\n",
    "game_func()"
   ]
  },
  {
   "cell_type": "code",
   "execution_count": null,
   "id": "ff75212f",
   "metadata": {},
   "outputs": [],
   "source": []
  }
 ],
 "metadata": {
  "kernelspec": {
   "display_name": "Python 3 (ipykernel)",
   "language": "python",
   "name": "python3"
  },
  "language_info": {
   "codemirror_mode": {
    "name": "ipython",
    "version": 3
   },
   "file_extension": ".py",
   "mimetype": "text/x-python",
   "name": "python",
   "nbconvert_exporter": "python",
   "pygments_lexer": "ipython3",
   "version": "3.9.13"
  }
 },
 "nbformat": 4,
 "nbformat_minor": 5
}
