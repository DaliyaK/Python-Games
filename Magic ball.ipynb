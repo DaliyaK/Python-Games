{
 "cells": [
  {
   "cell_type": "code",
   "execution_count": null,
   "id": "d23e1284",
   "metadata": {},
   "outputs": [
    {
     "name": "stdout",
     "output_type": "stream",
     "text": [
      "Привет Мир, я магический шар, и я знаю ответ на любой твой вопрос.\n",
      "Для начала, напиши как тебя зовут.\n",
      "Alina\n",
      "Привет, Alina\n",
      "Задай свой вопрос!\n",
      "Ответ на твой вопрос:\n",
      "Весьма сомнительно\n",
      "Хотите задать еще один вопрос? Если да, нажмите 0, если нет, нажмите 1.\n"
     ]
    }
   ],
   "source": [
    "import random\n",
    "answers = [\"Бесспорно\", \"Мне кажется - да\", \"Пока неясно, попробуй снова\", \"Даже не думай\",\n",
    "           \"Предрешено\", \"Вероятнее всего\", \"Спроси позже\", \"Мой ответ - нет\",\n",
    "           \"Никаких сомнений\", \"Хорошие перспективы\", \"Лучше не рассказывать\", \"По моим данным - нет\",\n",
    "           \"Можешь быть уверен в этом\", \"Да\", \"Сконцентрируйся и спроси опять\", \"Весьма сомнительно\"]\n",
    "print('Привет Мир, я магический шар, и я знаю ответ на любой твой вопрос.')\n",
    "print('Для начала, напиши как тебя зовут.')\n",
    "name = input()\n",
    "print('Привет,', name)\n",
    "\n",
    "while True:\n",
    "    print('Задай свой вопрос!')\n",
    "    print('Ответ на твой вопрос:')\n",
    "    print(random.choice(answers))\n",
    "    print('Хотите задать еще один вопрос? Если да, нажмите 0, если нет, нажмите 1.')\n",
    "    repit = input()\n",
    "    if repit == '1':\n",
    "        print('Возвращайся если возникнут вопросы!')\n",
    "        break\n",
    "    if repit == '0':\n",
    "        continue\n"
   ]
  },
  {
   "cell_type": "code",
   "execution_count": null,
   "id": "b06dabe5",
   "metadata": {},
   "outputs": [],
   "source": []
  },
  {
   "cell_type": "code",
   "execution_count": null,
   "id": "e9256cf5",
   "metadata": {},
   "outputs": [],
   "source": []
  },
  {
   "cell_type": "code",
   "execution_count": null,
   "id": "c9e786a4",
   "metadata": {},
   "outputs": [],
   "source": []
  },
  {
   "cell_type": "code",
   "execution_count": null,
   "id": "c573dd5f",
   "metadata": {},
   "outputs": [],
   "source": []
  },
  {
   "cell_type": "code",
   "execution_count": null,
   "id": "8e12d810",
   "metadata": {},
   "outputs": [],
   "source": []
  }
 ],
 "metadata": {
  "kernelspec": {
   "display_name": "Python 3 (ipykernel)",
   "language": "python",
   "name": "python3"
  },
  "language_info": {
   "codemirror_mode": {
    "name": "ipython",
    "version": 3
   },
   "file_extension": ".py",
   "mimetype": "text/x-python",
   "name": "python",
   "nbconvert_exporter": "python",
   "pygments_lexer": "ipython3",
   "version": "3.9.13"
  }
 },
 "nbformat": 4,
 "nbformat_minor": 5
}
